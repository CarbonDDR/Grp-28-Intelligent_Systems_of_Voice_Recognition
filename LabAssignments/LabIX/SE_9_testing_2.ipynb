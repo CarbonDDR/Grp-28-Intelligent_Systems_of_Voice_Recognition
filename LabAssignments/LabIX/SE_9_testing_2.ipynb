{
  "nbformat": 4,
  "nbformat_minor": 0,
  "metadata": {
    "colab": {
      "name": "SE_9_testing_2",
      "provenance": []
    },
    "kernelspec": {
      "name": "python3",
      "display_name": "Python 3"
    },
    "language_info": {
      "name": "python"
    }
  },
  "cells": [
    {
      "cell_type": "code",
      "metadata": {
        "id": "KQ05q4uSN6Wz"
      },
      "source": [
        "import pandas as pd\n",
        "import numpy as np\n",
        "csv = pd.read_csv('/content/data1.csv')\n",
        "data = np.array(csv)\n",
        "final = pd.DataFrame(csv)"
      ],
      "execution_count": 34,
      "outputs": []
    },
    {
      "cell_type": "code",
      "metadata": {
        "colab": {
          "base_uri": "https://localhost:8080/"
        },
        "id": "OSBlv5EfKJeo",
        "outputId": "6b036852-22f1-4adf-e1ae-038e206b78f6"
      },
      "source": [
        "id  = 12345\n",
        "quantity = 1\n",
        "cart_total = 1.0\n",
        "\n",
        "def check_validity(id,quantity,cart_total):\n",
        "  print(str(id).rjust(12),str(quantity).rjust(12),str(cart_total).rjust(12),end=' ')\n",
        "  if (id>=0 and id<=99999):\n",
        "    if (quantity==0):\n",
        "      print('Item is removed from the Cart')\n",
        "    elif (quantity>0 and quantity<=99):\n",
        "      if(cart_total>0 and cart_total<=999.99):\n",
        "        print('Valid')\n",
        "      else:\n",
        "        print('Invalid')\n",
        "    else:\n",
        "      print('Invaid')\n",
        "  else:\n",
        "    print('Invaid')\n",
        "\n",
        "list = []\n",
        "#print('ID Quantity Cart_Total Output')\n",
        "print(str('ID').rjust(12),str('Quantity').rjust(12),str('Cart Total').rjust(12),str('Output'))\n",
        "for i in range(0,len(data)):\n",
        "  list.append(check_validity(data[i][0],data[i][1],data[i][2]))"
      ],
      "execution_count": 53,
      "outputs": [
        {
          "output_type": "stream",
          "text": [
            "          ID     Quantity   Cart Total Output\n",
            "     20493.0         76.0      1163.19 Invalid\n",
            "     34243.0         62.0       950.53 Valid\n",
            "     71457.0        -22.0       540.76 Invaid\n",
            "       -83.0        -40.0       524.14 Invaid\n",
            "     63467.0        147.0         8.44 Invaid\n",
            "     47225.0         58.0       673.14 Valid\n",
            "     38540.0         69.0       519.42 Valid\n",
            "        12.0          0.0        999.0 Item is removed from the Cart\n",
            "     35897.0        -15.0       343.26 Invaid\n",
            "    100428.0        134.0       220.53 Invaid\n",
            "     59586.0         54.0       444.22 Valid\n",
            "     26062.0         59.0      1281.02 Invalid\n",
            "     21304.0        120.0      1354.21 Invaid\n",
            "     68650.0         14.0        65.75 Valid\n",
            "     97774.0         -7.0       1314.3 Invaid\n",
            "     61581.0        -16.0      1485.51 Invaid\n",
            "     64897.0        -39.0         8.24 Invaid\n",
            "      5149.0         71.0      1283.74 Invalid\n",
            "     41450.0        123.0      1082.33 Invaid\n",
            "     80714.0         18.0       322.84 Valid\n",
            "     24626.0        144.0      1062.55 Invaid\n",
            "      8074.0        128.0       402.99 Invaid\n",
            "      4874.0         94.0      1276.93 Invalid\n",
            "     49704.0         63.0       707.73 Valid\n",
            "     51955.0        136.0       332.89 Invaid\n",
            "      3798.0        117.0       -72.27 Invaid\n",
            "     88342.0        -15.0      1225.93 Invaid\n",
            "     93343.0        -14.0       918.82 Invaid\n",
            "     55295.0         87.0      1067.55 Invalid\n",
            "     54955.0         59.0       264.75 Valid\n",
            "     12345.0          0.0         99.0 Item is removed from the Cart\n"
          ],
          "name": "stdout"
        }
      ]
    }
  ]
}